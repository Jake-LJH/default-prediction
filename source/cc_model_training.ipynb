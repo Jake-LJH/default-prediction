{
  "nbformat": 4,
  "nbformat_minor": 2,
  "metadata": {
    "colab": {
      "name": "ccDefaultPred.ipynb",
      "provenance": [],
      "include_colab_link": true
    },
    "kernelspec": {
      "name": "python3",
      "display_name": "Python 3.8.8 64-bit ('base': conda)"
    },
    "language_info": {
      "name": "python",
      "version": "3.8.8",
      "mimetype": "text/x-python",
      "codemirror_mode": {
        "name": "ipython",
        "version": 3
      },
      "pygments_lexer": "ipython3",
      "nbconvert_exporter": "python",
      "file_extension": ".py"
    },
    "interpreter": {
      "hash": "4ee904c88bfb46bb267cb8c182275755112e5aa685c161815f98476cca91da62"
    }
  },
  "cells": [
    {
      "cell_type": "markdown",
      "source": [
        "<a href=\"https://colab.research.google.com/github/Jake-LJH/default-prediction/blob/master/cc_model_training.ipynb\" target=\"_parent\"><img src=\"https://colab.research.google.com/assets/colab-badge.svg\" alt=\"Open In Colab\"/></a>"
      ],
      "metadata": {
        "id": "view-in-github",
        "colab_type": "text"
      }
    },
    {
      "cell_type": "markdown",
      "source": [
        "#Data Set Information:\n",
        "\n",
        "This research aimed at the case of customers default payments in Taiwan and compares the predictive accuracy of probability of default among six data mining methods. From the perspective of risk management, the result of predictive accuracy of the estimated probability of default will be more valuable than the binary result of classification - credible or not credible clients. Because the real probability of default is unknown, this study presented the novel â€œSorting Smoothing Method to estimate the real probability of default. \n",
        "\n",
        "With the real probability of default as the response variable (Y), and the predictive probability of default as the independent variable (X), the simple linear regression result (Y = A + BX) shows that the forecasting model produced by artificial neural network has the highest coefficient of determination; its regression intercept (A) is close to zero, and regression coefficient (B) to one. Therefore, among the six data mining techniques, artificial neural network is the only one that can accurately estimate the real probability of default.\n",
        "\n",
        "Link: https://archive.ics.uci.edu/ml/datasets/default+of+credit+card+clients#\n",
        "\n",
        "\n",
        "##Attribute Information:\n",
        "\n",
        "This research employed a binary variable, default payment (Yes = <code>1</code>, No = <code>0</code>), as the response variable. \n",
        "\n",
        "There are 25 variables:\n",
        "\n",
        "* ID: ID of each client\n",
        "* LIMIT_BAL: Amount of given credit in NT dollars (includes individual and family/supplementary credit\n",
        "* SEX: Gender (1=male, 2=female)\n",
        "* EDUCATION: (1=graduate school, 2=university, 3=high school, 4=others, 5=unknown, 6=unknown)\n",
        "* MARRIAGE: Marital status (1=married, 2=single, 3=others)\n",
        "* AGE: Age in years\n",
        "* PAY_0: Repayment status in September, 2005 \n",
        "\n",
        "Scale: \n",
        "\n",
        "-2 = Balance paid in full and no transactions this period (we may refer to this credit card account as having been 'inactive' this period)\n",
        "\n",
        "-1 = Balance paid in full, but account has a positive balance at end of period due to recent transactions for which payment has not yet come due\n",
        "\n",
        "0 = Customer paid the minimum due amount, but not the entire balance. I.e., the customer paid enough for their account to remain in good standing, but did revolve a balance, \n",
        "\n",
        "1 = payment delay for one month, 2 = payment delay for two months, … 8=payment delay for eight months, 9 = payment delay for nine months and above\n",
        "\n",
        "* PAY_2: Repayment status in August, 2005 (scale same as above)\n",
        "* PAY_3: Repayment status in July, 2005 (scale same as above)\n",
        "* PAY_4: Repayment status in June, 2005 (scale same as above)\n",
        "* PAY_5: Repayment status in May, 2005 (scale same as above)\n",
        "* PAY_6: Repayment status in April, 2005 (scale same as above)\n",
        "* BILL_AMT1: Amount of bill statement in September, 2005 (NT dollar)\n",
        "* BILL_AMT2: Amount of bill statement in August, 2005 (NT dollar)\n",
        "* BILL_AMT3: Amount of bill statement in July, 2005 (NT dollar)\n",
        "* BILL_AMT4: Amount of bill statement in June, 2005 (NT dollar)\n",
        "* BILL_AMT5: Amount of bill statement in May, 2005 (NT dollar)\n",
        "* BILL_AMT6: Amount of bill statement in April, 2005 (NT dollar)\n",
        "* PAY_AMT1: Amount of previous payment in September, 2005 (NT dollar)\n",
        "* PAY_AMT2: Amount of previous payment in August, 2005 (NT dollar)\n",
        "* PAY_AMT3: Amount of previous payment in July, 2005 (NT dollar)\n",
        "* PAY_AMT4: Amount of previous payment in June, 2005 (NT dollar)\n",
        "* PAY_AMT5: Amount of previous payment in May, 2005 (NT dollar)\n",
        "* PAY_AMT6: Amount of previous payment in April, 2005 (NT dollar)\n",
        "* default.payment.next.month: Default payment (1=yes, 0=no)"
      ],
      "metadata": {
        "id": "jlWwc-OdMLxy"
      }
    },
    {
      "cell_type": "code",
      "execution_count": 11,
      "source": [
        "import numpy as np\r\n",
        "import pandas as pd\r\n",
        "import matplotlib.pyplot as plt\r\n",
        "import sklearn\r\n",
        "import matplotlib.pyplot as plt\r\n",
        "from sklearn import datasets\r\n",
        "from sklearn.pipeline import Pipeline\r\n",
        "from sklearn.preprocessing import StandardScaler, OneHotEncoder\r\n",
        "from sklearn.model_selection import train_test_split\r\n",
        "from sklearn.compose import ColumnTransformer\r\n",
        "\r\n",
        "from sklearn.linear_model import LogisticRegression\r\n",
        "from sklearn.tree import DecisionTreeClassifier\r\n",
        "from sklearn.ensemble import RandomForestClassifier\r\n",
        "from xgboost import XGBClassifier\r\n",
        "from sklearn.neighbors import KNeighborsClassifier\r\n",
        "from sklearn.svm import LinearSVC\r\n",
        "from sklearn.naive_bayes import GaussianNB, BernoulliNB, MultinomialNB\r\n",
        "from sklearn.linear_model import SGDClassifier\r\n",
        "from sklearn.svm import SVC\r\n",
        "\r\n",
        "#Import all the metrics for validation and evaluation\r\n",
        "from sklearn.metrics import confusion_matrix\r\n",
        "from sklearn.metrics import accuracy_score\r\n",
        "from sklearn.metrics import recall_score\r\n",
        "from sklearn.metrics import precision_score\r\n",
        "from sklearn.metrics import f1_score\r\n",
        "from sklearn.metrics import classification_report\r\n",
        "import seaborn as sns\r\n",
        "#ROC Curve\r\n",
        "from sklearn.metrics import plot_roc_curve"
      ],
      "outputs": [],
      "metadata": {
        "id": "DYrPoqluqiuI"
      }
    },
    {
      "cell_type": "markdown",
      "source": [
        "# Data Exploratory"
      ],
      "metadata": {
        "id": "llBFTERFgjpA"
      }
    },
    {
      "cell_type": "code",
      "execution_count": 21,
      "source": [
        "dataset = pd.read_csv('UCI_Credit_Card.csv',index_col=0)\r\n",
        "dataset.head()"
      ],
      "outputs": [
        {
          "output_type": "execute_result",
          "data": {
            "text/html": [
              "<div>\n",
              "<style scoped>\n",
              "    .dataframe tbody tr th:only-of-type {\n",
              "        vertical-align: middle;\n",
              "    }\n",
              "\n",
              "    .dataframe tbody tr th {\n",
              "        vertical-align: top;\n",
              "    }\n",
              "\n",
              "    .dataframe thead th {\n",
              "        text-align: right;\n",
              "    }\n",
              "</style>\n",
              "<table border=\"1\" class=\"dataframe\">\n",
              "  <thead>\n",
              "    <tr style=\"text-align: right;\">\n",
              "      <th></th>\n",
              "      <th>LIMIT_BAL</th>\n",
              "      <th>SEX</th>\n",
              "      <th>EDUCATION</th>\n",
              "      <th>MARRIAGE</th>\n",
              "      <th>AGE</th>\n",
              "      <th>PAY_0</th>\n",
              "      <th>PAY_2</th>\n",
              "      <th>PAY_3</th>\n",
              "      <th>PAY_4</th>\n",
              "      <th>PAY_5</th>\n",
              "      <th>...</th>\n",
              "      <th>BILL_AMT4</th>\n",
              "      <th>BILL_AMT5</th>\n",
              "      <th>BILL_AMT6</th>\n",
              "      <th>PAY_AMT1</th>\n",
              "      <th>PAY_AMT2</th>\n",
              "      <th>PAY_AMT3</th>\n",
              "      <th>PAY_AMT4</th>\n",
              "      <th>PAY_AMT5</th>\n",
              "      <th>PAY_AMT6</th>\n",
              "      <th>default.payment.next.month</th>\n",
              "    </tr>\n",
              "    <tr>\n",
              "      <th>ID</th>\n",
              "      <th></th>\n",
              "      <th></th>\n",
              "      <th></th>\n",
              "      <th></th>\n",
              "      <th></th>\n",
              "      <th></th>\n",
              "      <th></th>\n",
              "      <th></th>\n",
              "      <th></th>\n",
              "      <th></th>\n",
              "      <th></th>\n",
              "      <th></th>\n",
              "      <th></th>\n",
              "      <th></th>\n",
              "      <th></th>\n",
              "      <th></th>\n",
              "      <th></th>\n",
              "      <th></th>\n",
              "      <th></th>\n",
              "      <th></th>\n",
              "      <th></th>\n",
              "    </tr>\n",
              "  </thead>\n",
              "  <tbody>\n",
              "    <tr>\n",
              "      <th>1</th>\n",
              "      <td>20000.0</td>\n",
              "      <td>2</td>\n",
              "      <td>2</td>\n",
              "      <td>1</td>\n",
              "      <td>24</td>\n",
              "      <td>2</td>\n",
              "      <td>2</td>\n",
              "      <td>-1</td>\n",
              "      <td>-1</td>\n",
              "      <td>-2</td>\n",
              "      <td>...</td>\n",
              "      <td>0.0</td>\n",
              "      <td>0.0</td>\n",
              "      <td>0.0</td>\n",
              "      <td>0.0</td>\n",
              "      <td>689.0</td>\n",
              "      <td>0.0</td>\n",
              "      <td>0.0</td>\n",
              "      <td>0.0</td>\n",
              "      <td>0.0</td>\n",
              "      <td>1</td>\n",
              "    </tr>\n",
              "    <tr>\n",
              "      <th>2</th>\n",
              "      <td>120000.0</td>\n",
              "      <td>2</td>\n",
              "      <td>2</td>\n",
              "      <td>2</td>\n",
              "      <td>26</td>\n",
              "      <td>-1</td>\n",
              "      <td>2</td>\n",
              "      <td>0</td>\n",
              "      <td>0</td>\n",
              "      <td>0</td>\n",
              "      <td>...</td>\n",
              "      <td>3272.0</td>\n",
              "      <td>3455.0</td>\n",
              "      <td>3261.0</td>\n",
              "      <td>0.0</td>\n",
              "      <td>1000.0</td>\n",
              "      <td>1000.0</td>\n",
              "      <td>1000.0</td>\n",
              "      <td>0.0</td>\n",
              "      <td>2000.0</td>\n",
              "      <td>1</td>\n",
              "    </tr>\n",
              "    <tr>\n",
              "      <th>3</th>\n",
              "      <td>90000.0</td>\n",
              "      <td>2</td>\n",
              "      <td>2</td>\n",
              "      <td>2</td>\n",
              "      <td>34</td>\n",
              "      <td>0</td>\n",
              "      <td>0</td>\n",
              "      <td>0</td>\n",
              "      <td>0</td>\n",
              "      <td>0</td>\n",
              "      <td>...</td>\n",
              "      <td>14331.0</td>\n",
              "      <td>14948.0</td>\n",
              "      <td>15549.0</td>\n",
              "      <td>1518.0</td>\n",
              "      <td>1500.0</td>\n",
              "      <td>1000.0</td>\n",
              "      <td>1000.0</td>\n",
              "      <td>1000.0</td>\n",
              "      <td>5000.0</td>\n",
              "      <td>0</td>\n",
              "    </tr>\n",
              "    <tr>\n",
              "      <th>4</th>\n",
              "      <td>50000.0</td>\n",
              "      <td>2</td>\n",
              "      <td>2</td>\n",
              "      <td>1</td>\n",
              "      <td>37</td>\n",
              "      <td>0</td>\n",
              "      <td>0</td>\n",
              "      <td>0</td>\n",
              "      <td>0</td>\n",
              "      <td>0</td>\n",
              "      <td>...</td>\n",
              "      <td>28314.0</td>\n",
              "      <td>28959.0</td>\n",
              "      <td>29547.0</td>\n",
              "      <td>2000.0</td>\n",
              "      <td>2019.0</td>\n",
              "      <td>1200.0</td>\n",
              "      <td>1100.0</td>\n",
              "      <td>1069.0</td>\n",
              "      <td>1000.0</td>\n",
              "      <td>0</td>\n",
              "    </tr>\n",
              "    <tr>\n",
              "      <th>5</th>\n",
              "      <td>50000.0</td>\n",
              "      <td>1</td>\n",
              "      <td>2</td>\n",
              "      <td>1</td>\n",
              "      <td>57</td>\n",
              "      <td>-1</td>\n",
              "      <td>0</td>\n",
              "      <td>-1</td>\n",
              "      <td>0</td>\n",
              "      <td>0</td>\n",
              "      <td>...</td>\n",
              "      <td>20940.0</td>\n",
              "      <td>19146.0</td>\n",
              "      <td>19131.0</td>\n",
              "      <td>2000.0</td>\n",
              "      <td>36681.0</td>\n",
              "      <td>10000.0</td>\n",
              "      <td>9000.0</td>\n",
              "      <td>689.0</td>\n",
              "      <td>679.0</td>\n",
              "      <td>0</td>\n",
              "    </tr>\n",
              "  </tbody>\n",
              "</table>\n",
              "<p>5 rows × 24 columns</p>\n",
              "</div>"
            ],
            "text/plain": [
              "    LIMIT_BAL  SEX  EDUCATION  MARRIAGE  AGE  PAY_0  PAY_2  PAY_3  PAY_4  \\\n",
              "ID                                                                         \n",
              "1     20000.0    2          2         1   24      2      2     -1     -1   \n",
              "2    120000.0    2          2         2   26     -1      2      0      0   \n",
              "3     90000.0    2          2         2   34      0      0      0      0   \n",
              "4     50000.0    2          2         1   37      0      0      0      0   \n",
              "5     50000.0    1          2         1   57     -1      0     -1      0   \n",
              "\n",
              "    PAY_5  ...  BILL_AMT4  BILL_AMT5  BILL_AMT6  PAY_AMT1  PAY_AMT2  PAY_AMT3  \\\n",
              "ID         ...                                                                  \n",
              "1      -2  ...        0.0        0.0        0.0       0.0     689.0       0.0   \n",
              "2       0  ...     3272.0     3455.0     3261.0       0.0    1000.0    1000.0   \n",
              "3       0  ...    14331.0    14948.0    15549.0    1518.0    1500.0    1000.0   \n",
              "4       0  ...    28314.0    28959.0    29547.0    2000.0    2019.0    1200.0   \n",
              "5       0  ...    20940.0    19146.0    19131.0    2000.0   36681.0   10000.0   \n",
              "\n",
              "    PAY_AMT4  PAY_AMT5  PAY_AMT6  default.payment.next.month  \n",
              "ID                                                            \n",
              "1        0.0       0.0       0.0                           1  \n",
              "2     1000.0       0.0    2000.0                           1  \n",
              "3     1000.0    1000.0    5000.0                           0  \n",
              "4     1100.0    1069.0    1000.0                           0  \n",
              "5     9000.0     689.0     679.0                           0  \n",
              "\n",
              "[5 rows x 24 columns]"
            ]
          },
          "metadata": {},
          "execution_count": 21
        }
      ],
      "metadata": {
        "id": "Mv_Tbt8TrLVu",
        "colab": {
          "base_uri": "https://localhost:8080/",
          "height": 341
        },
        "outputId": "6aff629f-38f3-488c-96df-68079f179fe4"
      }
    },
    {
      "cell_type": "code",
      "execution_count": 22,
      "source": [
        "print(\"Shape of dataset \"+str(dataset.shape))\r\n",
        "print('*'*40)\r\n",
        "print(dataset.info())"
      ],
      "outputs": [
        {
          "output_type": "stream",
          "name": "stdout",
          "text": [
            "Shape of dataset (30000, 24)\n",
            "****************************************\n",
            "<class 'pandas.core.frame.DataFrame'>\n",
            "Int64Index: 30000 entries, 1 to 30000\n",
            "Data columns (total 24 columns):\n",
            " #   Column                      Non-Null Count  Dtype  \n",
            "---  ------                      --------------  -----  \n",
            " 0   LIMIT_BAL                   30000 non-null  float64\n",
            " 1   SEX                         30000 non-null  int64  \n",
            " 2   EDUCATION                   30000 non-null  int64  \n",
            " 3   MARRIAGE                    30000 non-null  int64  \n",
            " 4   AGE                         30000 non-null  int64  \n",
            " 5   PAY_0                       30000 non-null  int64  \n",
            " 6   PAY_2                       30000 non-null  int64  \n",
            " 7   PAY_3                       30000 non-null  int64  \n",
            " 8   PAY_4                       30000 non-null  int64  \n",
            " 9   PAY_5                       30000 non-null  int64  \n",
            " 10  PAY_6                       30000 non-null  int64  \n",
            " 11  BILL_AMT1                   30000 non-null  float64\n",
            " 12  BILL_AMT2                   30000 non-null  float64\n",
            " 13  BILL_AMT3                   30000 non-null  float64\n",
            " 14  BILL_AMT4                   30000 non-null  float64\n",
            " 15  BILL_AMT5                   30000 non-null  float64\n",
            " 16  BILL_AMT6                   30000 non-null  float64\n",
            " 17  PAY_AMT1                    30000 non-null  float64\n",
            " 18  PAY_AMT2                    30000 non-null  float64\n",
            " 19  PAY_AMT3                    30000 non-null  float64\n",
            " 20  PAY_AMT4                    30000 non-null  float64\n",
            " 21  PAY_AMT5                    30000 non-null  float64\n",
            " 22  PAY_AMT6                    30000 non-null  float64\n",
            " 23  default.payment.next.month  30000 non-null  int64  \n",
            "dtypes: float64(13), int64(11)\n",
            "memory usage: 5.7 MB\n",
            "None\n"
          ]
        }
      ],
      "metadata": {
        "id": "PF481DwlsNn9"
      }
    },
    {
      "cell_type": "code",
      "execution_count": 23,
      "source": [
        "dataset.describe()"
      ],
      "outputs": [
        {
          "output_type": "execute_result",
          "data": {
            "text/html": [
              "<div>\n",
              "<style scoped>\n",
              "    .dataframe tbody tr th:only-of-type {\n",
              "        vertical-align: middle;\n",
              "    }\n",
              "\n",
              "    .dataframe tbody tr th {\n",
              "        vertical-align: top;\n",
              "    }\n",
              "\n",
              "    .dataframe thead th {\n",
              "        text-align: right;\n",
              "    }\n",
              "</style>\n",
              "<table border=\"1\" class=\"dataframe\">\n",
              "  <thead>\n",
              "    <tr style=\"text-align: right;\">\n",
              "      <th></th>\n",
              "      <th>LIMIT_BAL</th>\n",
              "      <th>SEX</th>\n",
              "      <th>EDUCATION</th>\n",
              "      <th>MARRIAGE</th>\n",
              "      <th>AGE</th>\n",
              "      <th>PAY_0</th>\n",
              "      <th>PAY_2</th>\n",
              "      <th>PAY_3</th>\n",
              "      <th>PAY_4</th>\n",
              "      <th>PAY_5</th>\n",
              "      <th>...</th>\n",
              "      <th>BILL_AMT4</th>\n",
              "      <th>BILL_AMT5</th>\n",
              "      <th>BILL_AMT6</th>\n",
              "      <th>PAY_AMT1</th>\n",
              "      <th>PAY_AMT2</th>\n",
              "      <th>PAY_AMT3</th>\n",
              "      <th>PAY_AMT4</th>\n",
              "      <th>PAY_AMT5</th>\n",
              "      <th>PAY_AMT6</th>\n",
              "      <th>default.payment.next.month</th>\n",
              "    </tr>\n",
              "  </thead>\n",
              "  <tbody>\n",
              "    <tr>\n",
              "      <th>count</th>\n",
              "      <td>30000.000000</td>\n",
              "      <td>30000.000000</td>\n",
              "      <td>30000.000000</td>\n",
              "      <td>30000.000000</td>\n",
              "      <td>30000.000000</td>\n",
              "      <td>30000.000000</td>\n",
              "      <td>30000.000000</td>\n",
              "      <td>30000.000000</td>\n",
              "      <td>30000.000000</td>\n",
              "      <td>30000.000000</td>\n",
              "      <td>...</td>\n",
              "      <td>30000.000000</td>\n",
              "      <td>30000.000000</td>\n",
              "      <td>30000.000000</td>\n",
              "      <td>30000.000000</td>\n",
              "      <td>3.000000e+04</td>\n",
              "      <td>30000.00000</td>\n",
              "      <td>30000.000000</td>\n",
              "      <td>30000.000000</td>\n",
              "      <td>30000.000000</td>\n",
              "      <td>30000.000000</td>\n",
              "    </tr>\n",
              "    <tr>\n",
              "      <th>mean</th>\n",
              "      <td>167484.322667</td>\n",
              "      <td>1.603733</td>\n",
              "      <td>1.853133</td>\n",
              "      <td>1.551867</td>\n",
              "      <td>35.485500</td>\n",
              "      <td>-0.016700</td>\n",
              "      <td>-0.133767</td>\n",
              "      <td>-0.166200</td>\n",
              "      <td>-0.220667</td>\n",
              "      <td>-0.266200</td>\n",
              "      <td>...</td>\n",
              "      <td>43262.948967</td>\n",
              "      <td>40311.400967</td>\n",
              "      <td>38871.760400</td>\n",
              "      <td>5663.580500</td>\n",
              "      <td>5.921163e+03</td>\n",
              "      <td>5225.68150</td>\n",
              "      <td>4826.076867</td>\n",
              "      <td>4799.387633</td>\n",
              "      <td>5215.502567</td>\n",
              "      <td>0.221200</td>\n",
              "    </tr>\n",
              "    <tr>\n",
              "      <th>std</th>\n",
              "      <td>129747.661567</td>\n",
              "      <td>0.489129</td>\n",
              "      <td>0.790349</td>\n",
              "      <td>0.521970</td>\n",
              "      <td>9.217904</td>\n",
              "      <td>1.123802</td>\n",
              "      <td>1.197186</td>\n",
              "      <td>1.196868</td>\n",
              "      <td>1.169139</td>\n",
              "      <td>1.133187</td>\n",
              "      <td>...</td>\n",
              "      <td>64332.856134</td>\n",
              "      <td>60797.155770</td>\n",
              "      <td>59554.107537</td>\n",
              "      <td>16563.280354</td>\n",
              "      <td>2.304087e+04</td>\n",
              "      <td>17606.96147</td>\n",
              "      <td>15666.159744</td>\n",
              "      <td>15278.305679</td>\n",
              "      <td>17777.465775</td>\n",
              "      <td>0.415062</td>\n",
              "    </tr>\n",
              "    <tr>\n",
              "      <th>min</th>\n",
              "      <td>10000.000000</td>\n",
              "      <td>1.000000</td>\n",
              "      <td>0.000000</td>\n",
              "      <td>0.000000</td>\n",
              "      <td>21.000000</td>\n",
              "      <td>-2.000000</td>\n",
              "      <td>-2.000000</td>\n",
              "      <td>-2.000000</td>\n",
              "      <td>-2.000000</td>\n",
              "      <td>-2.000000</td>\n",
              "      <td>...</td>\n",
              "      <td>-170000.000000</td>\n",
              "      <td>-81334.000000</td>\n",
              "      <td>-339603.000000</td>\n",
              "      <td>0.000000</td>\n",
              "      <td>0.000000e+00</td>\n",
              "      <td>0.00000</td>\n",
              "      <td>0.000000</td>\n",
              "      <td>0.000000</td>\n",
              "      <td>0.000000</td>\n",
              "      <td>0.000000</td>\n",
              "    </tr>\n",
              "    <tr>\n",
              "      <th>25%</th>\n",
              "      <td>50000.000000</td>\n",
              "      <td>1.000000</td>\n",
              "      <td>1.000000</td>\n",
              "      <td>1.000000</td>\n",
              "      <td>28.000000</td>\n",
              "      <td>-1.000000</td>\n",
              "      <td>-1.000000</td>\n",
              "      <td>-1.000000</td>\n",
              "      <td>-1.000000</td>\n",
              "      <td>-1.000000</td>\n",
              "      <td>...</td>\n",
              "      <td>2326.750000</td>\n",
              "      <td>1763.000000</td>\n",
              "      <td>1256.000000</td>\n",
              "      <td>1000.000000</td>\n",
              "      <td>8.330000e+02</td>\n",
              "      <td>390.00000</td>\n",
              "      <td>296.000000</td>\n",
              "      <td>252.500000</td>\n",
              "      <td>117.750000</td>\n",
              "      <td>0.000000</td>\n",
              "    </tr>\n",
              "    <tr>\n",
              "      <th>50%</th>\n",
              "      <td>140000.000000</td>\n",
              "      <td>2.000000</td>\n",
              "      <td>2.000000</td>\n",
              "      <td>2.000000</td>\n",
              "      <td>34.000000</td>\n",
              "      <td>0.000000</td>\n",
              "      <td>0.000000</td>\n",
              "      <td>0.000000</td>\n",
              "      <td>0.000000</td>\n",
              "      <td>0.000000</td>\n",
              "      <td>...</td>\n",
              "      <td>19052.000000</td>\n",
              "      <td>18104.500000</td>\n",
              "      <td>17071.000000</td>\n",
              "      <td>2100.000000</td>\n",
              "      <td>2.009000e+03</td>\n",
              "      <td>1800.00000</td>\n",
              "      <td>1500.000000</td>\n",
              "      <td>1500.000000</td>\n",
              "      <td>1500.000000</td>\n",
              "      <td>0.000000</td>\n",
              "    </tr>\n",
              "    <tr>\n",
              "      <th>75%</th>\n",
              "      <td>240000.000000</td>\n",
              "      <td>2.000000</td>\n",
              "      <td>2.000000</td>\n",
              "      <td>2.000000</td>\n",
              "      <td>41.000000</td>\n",
              "      <td>0.000000</td>\n",
              "      <td>0.000000</td>\n",
              "      <td>0.000000</td>\n",
              "      <td>0.000000</td>\n",
              "      <td>0.000000</td>\n",
              "      <td>...</td>\n",
              "      <td>54506.000000</td>\n",
              "      <td>50190.500000</td>\n",
              "      <td>49198.250000</td>\n",
              "      <td>5006.000000</td>\n",
              "      <td>5.000000e+03</td>\n",
              "      <td>4505.00000</td>\n",
              "      <td>4013.250000</td>\n",
              "      <td>4031.500000</td>\n",
              "      <td>4000.000000</td>\n",
              "      <td>0.000000</td>\n",
              "    </tr>\n",
              "    <tr>\n",
              "      <th>max</th>\n",
              "      <td>1000000.000000</td>\n",
              "      <td>2.000000</td>\n",
              "      <td>6.000000</td>\n",
              "      <td>3.000000</td>\n",
              "      <td>79.000000</td>\n",
              "      <td>8.000000</td>\n",
              "      <td>8.000000</td>\n",
              "      <td>8.000000</td>\n",
              "      <td>8.000000</td>\n",
              "      <td>8.000000</td>\n",
              "      <td>...</td>\n",
              "      <td>891586.000000</td>\n",
              "      <td>927171.000000</td>\n",
              "      <td>961664.000000</td>\n",
              "      <td>873552.000000</td>\n",
              "      <td>1.684259e+06</td>\n",
              "      <td>896040.00000</td>\n",
              "      <td>621000.000000</td>\n",
              "      <td>426529.000000</td>\n",
              "      <td>528666.000000</td>\n",
              "      <td>1.000000</td>\n",
              "    </tr>\n",
              "  </tbody>\n",
              "</table>\n",
              "<p>8 rows × 24 columns</p>\n",
              "</div>"
            ],
            "text/plain": [
              "            LIMIT_BAL           SEX     EDUCATION      MARRIAGE           AGE  \\\n",
              "count    30000.000000  30000.000000  30000.000000  30000.000000  30000.000000   \n",
              "mean    167484.322667      1.603733      1.853133      1.551867     35.485500   \n",
              "std     129747.661567      0.489129      0.790349      0.521970      9.217904   \n",
              "min      10000.000000      1.000000      0.000000      0.000000     21.000000   \n",
              "25%      50000.000000      1.000000      1.000000      1.000000     28.000000   \n",
              "50%     140000.000000      2.000000      2.000000      2.000000     34.000000   \n",
              "75%     240000.000000      2.000000      2.000000      2.000000     41.000000   \n",
              "max    1000000.000000      2.000000      6.000000      3.000000     79.000000   \n",
              "\n",
              "              PAY_0         PAY_2         PAY_3         PAY_4         PAY_5  \\\n",
              "count  30000.000000  30000.000000  30000.000000  30000.000000  30000.000000   \n",
              "mean      -0.016700     -0.133767     -0.166200     -0.220667     -0.266200   \n",
              "std        1.123802      1.197186      1.196868      1.169139      1.133187   \n",
              "min       -2.000000     -2.000000     -2.000000     -2.000000     -2.000000   \n",
              "25%       -1.000000     -1.000000     -1.000000     -1.000000     -1.000000   \n",
              "50%        0.000000      0.000000      0.000000      0.000000      0.000000   \n",
              "75%        0.000000      0.000000      0.000000      0.000000      0.000000   \n",
              "max        8.000000      8.000000      8.000000      8.000000      8.000000   \n",
              "\n",
              "       ...      BILL_AMT4      BILL_AMT5      BILL_AMT6       PAY_AMT1  \\\n",
              "count  ...   30000.000000   30000.000000   30000.000000   30000.000000   \n",
              "mean   ...   43262.948967   40311.400967   38871.760400    5663.580500   \n",
              "std    ...   64332.856134   60797.155770   59554.107537   16563.280354   \n",
              "min    ... -170000.000000  -81334.000000 -339603.000000       0.000000   \n",
              "25%    ...    2326.750000    1763.000000    1256.000000    1000.000000   \n",
              "50%    ...   19052.000000   18104.500000   17071.000000    2100.000000   \n",
              "75%    ...   54506.000000   50190.500000   49198.250000    5006.000000   \n",
              "max    ...  891586.000000  927171.000000  961664.000000  873552.000000   \n",
              "\n",
              "           PAY_AMT2      PAY_AMT3       PAY_AMT4       PAY_AMT5  \\\n",
              "count  3.000000e+04   30000.00000   30000.000000   30000.000000   \n",
              "mean   5.921163e+03    5225.68150    4826.076867    4799.387633   \n",
              "std    2.304087e+04   17606.96147   15666.159744   15278.305679   \n",
              "min    0.000000e+00       0.00000       0.000000       0.000000   \n",
              "25%    8.330000e+02     390.00000     296.000000     252.500000   \n",
              "50%    2.009000e+03    1800.00000    1500.000000    1500.000000   \n",
              "75%    5.000000e+03    4505.00000    4013.250000    4031.500000   \n",
              "max    1.684259e+06  896040.00000  621000.000000  426529.000000   \n",
              "\n",
              "            PAY_AMT6  default.payment.next.month  \n",
              "count   30000.000000                30000.000000  \n",
              "mean     5215.502567                    0.221200  \n",
              "std     17777.465775                    0.415062  \n",
              "min         0.000000                    0.000000  \n",
              "25%       117.750000                    0.000000  \n",
              "50%      1500.000000                    0.000000  \n",
              "75%      4000.000000                    0.000000  \n",
              "max    528666.000000                    1.000000  \n",
              "\n",
              "[8 rows x 24 columns]"
            ]
          },
          "metadata": {},
          "execution_count": 23
        }
      ],
      "metadata": {
        "id": "ELPeB5vniMDa"
      }
    },
    {
      "cell_type": "markdown",
      "source": [
        "# Data Engineering"
      ],
      "metadata": {
        "id": "W7qtNjuuitOJ"
      }
    },
    {
      "cell_type": "code",
      "execution_count": 24,
      "source": [
        "X = dataset.drop('default.payment.next.month', axis=1)\r\n",
        "y = dataset['default.payment.next.month']"
      ],
      "outputs": [],
      "metadata": {
        "id": "5VgivI3wisiM"
      }
    },
    {
      "cell_type": "code",
      "execution_count": 25,
      "source": [
        "X_train, x_test, Y_train, y_test = train_test_split(X, y, test_size = 0.20, random_state=42)\r\n",
        "X_train.head()"
      ],
      "outputs": [
        {
          "output_type": "execute_result",
          "data": {
            "text/html": [
              "<div>\n",
              "<style scoped>\n",
              "    .dataframe tbody tr th:only-of-type {\n",
              "        vertical-align: middle;\n",
              "    }\n",
              "\n",
              "    .dataframe tbody tr th {\n",
              "        vertical-align: top;\n",
              "    }\n",
              "\n",
              "    .dataframe thead th {\n",
              "        text-align: right;\n",
              "    }\n",
              "</style>\n",
              "<table border=\"1\" class=\"dataframe\">\n",
              "  <thead>\n",
              "    <tr style=\"text-align: right;\">\n",
              "      <th></th>\n",
              "      <th>LIMIT_BAL</th>\n",
              "      <th>SEX</th>\n",
              "      <th>EDUCATION</th>\n",
              "      <th>MARRIAGE</th>\n",
              "      <th>AGE</th>\n",
              "      <th>PAY_0</th>\n",
              "      <th>PAY_2</th>\n",
              "      <th>PAY_3</th>\n",
              "      <th>PAY_4</th>\n",
              "      <th>PAY_5</th>\n",
              "      <th>...</th>\n",
              "      <th>BILL_AMT3</th>\n",
              "      <th>BILL_AMT4</th>\n",
              "      <th>BILL_AMT5</th>\n",
              "      <th>BILL_AMT6</th>\n",
              "      <th>PAY_AMT1</th>\n",
              "      <th>PAY_AMT2</th>\n",
              "      <th>PAY_AMT3</th>\n",
              "      <th>PAY_AMT4</th>\n",
              "      <th>PAY_AMT5</th>\n",
              "      <th>PAY_AMT6</th>\n",
              "    </tr>\n",
              "    <tr>\n",
              "      <th>ID</th>\n",
              "      <th></th>\n",
              "      <th></th>\n",
              "      <th></th>\n",
              "      <th></th>\n",
              "      <th></th>\n",
              "      <th></th>\n",
              "      <th></th>\n",
              "      <th></th>\n",
              "      <th></th>\n",
              "      <th></th>\n",
              "      <th></th>\n",
              "      <th></th>\n",
              "      <th></th>\n",
              "      <th></th>\n",
              "      <th></th>\n",
              "      <th></th>\n",
              "      <th></th>\n",
              "      <th></th>\n",
              "      <th></th>\n",
              "      <th></th>\n",
              "      <th></th>\n",
              "    </tr>\n",
              "  </thead>\n",
              "  <tbody>\n",
              "    <tr>\n",
              "      <th>21754</th>\n",
              "      <td>80000.0</td>\n",
              "      <td>2</td>\n",
              "      <td>2</td>\n",
              "      <td>2</td>\n",
              "      <td>24</td>\n",
              "      <td>0</td>\n",
              "      <td>0</td>\n",
              "      <td>0</td>\n",
              "      <td>0</td>\n",
              "      <td>0</td>\n",
              "      <td>...</td>\n",
              "      <td>78321.0</td>\n",
              "      <td>73731.0</td>\n",
              "      <td>39643.0</td>\n",
              "      <td>39457.0</td>\n",
              "      <td>3503.0</td>\n",
              "      <td>5001.0</td>\n",
              "      <td>2092.0</td>\n",
              "      <td>1218.0</td>\n",
              "      <td>1445.0</td>\n",
              "      <td>878.0</td>\n",
              "    </tr>\n",
              "    <tr>\n",
              "      <th>252</th>\n",
              "      <td>30000.0</td>\n",
              "      <td>1</td>\n",
              "      <td>2</td>\n",
              "      <td>2</td>\n",
              "      <td>28</td>\n",
              "      <td>0</td>\n",
              "      <td>0</td>\n",
              "      <td>0</td>\n",
              "      <td>0</td>\n",
              "      <td>0</td>\n",
              "      <td>...</td>\n",
              "      <td>29155.0</td>\n",
              "      <td>25255.0</td>\n",
              "      <td>22001.0</td>\n",
              "      <td>0.0</td>\n",
              "      <td>5006.0</td>\n",
              "      <td>1244.0</td>\n",
              "      <td>851.0</td>\n",
              "      <td>955.0</td>\n",
              "      <td>0.0</td>\n",
              "      <td>0.0</td>\n",
              "    </tr>\n",
              "    <tr>\n",
              "      <th>22942</th>\n",
              "      <td>180000.0</td>\n",
              "      <td>2</td>\n",
              "      <td>5</td>\n",
              "      <td>1</td>\n",
              "      <td>44</td>\n",
              "      <td>0</td>\n",
              "      <td>0</td>\n",
              "      <td>-1</td>\n",
              "      <td>-1</td>\n",
              "      <td>-1</td>\n",
              "      <td>...</td>\n",
              "      <td>850.0</td>\n",
              "      <td>0.0</td>\n",
              "      <td>6881.0</td>\n",
              "      <td>10340.0</td>\n",
              "      <td>0.0</td>\n",
              "      <td>850.0</td>\n",
              "      <td>0.0</td>\n",
              "      <td>6881.0</td>\n",
              "      <td>10340.0</td>\n",
              "      <td>182.0</td>\n",
              "    </tr>\n",
              "    <tr>\n",
              "      <th>619</th>\n",
              "      <td>60000.0</td>\n",
              "      <td>1</td>\n",
              "      <td>1</td>\n",
              "      <td>2</td>\n",
              "      <td>25</td>\n",
              "      <td>0</td>\n",
              "      <td>0</td>\n",
              "      <td>0</td>\n",
              "      <td>0</td>\n",
              "      <td>0</td>\n",
              "      <td>...</td>\n",
              "      <td>38533.0</td>\n",
              "      <td>39639.0</td>\n",
              "      <td>39619.0</td>\n",
              "      <td>39140.0</td>\n",
              "      <td>2018.0</td>\n",
              "      <td>1900.0</td>\n",
              "      <td>2000.0</td>\n",
              "      <td>1500.0</td>\n",
              "      <td>1900.0</td>\n",
              "      <td>2000.0</td>\n",
              "    </tr>\n",
              "    <tr>\n",
              "      <th>17091</th>\n",
              "      <td>130000.0</td>\n",
              "      <td>2</td>\n",
              "      <td>2</td>\n",
              "      <td>2</td>\n",
              "      <td>25</td>\n",
              "      <td>0</td>\n",
              "      <td>0</td>\n",
              "      <td>0</td>\n",
              "      <td>0</td>\n",
              "      <td>0</td>\n",
              "      <td>...</td>\n",
              "      <td>114734.0</td>\n",
              "      <td>117823.0</td>\n",
              "      <td>120854.0</td>\n",
              "      <td>123904.0</td>\n",
              "      <td>4100.0</td>\n",
              "      <td>4200.0</td>\n",
              "      <td>5000.0</td>\n",
              "      <td>5000.0</td>\n",
              "      <td>5000.0</td>\n",
              "      <td>10700.0</td>\n",
              "    </tr>\n",
              "  </tbody>\n",
              "</table>\n",
              "<p>5 rows × 23 columns</p>\n",
              "</div>"
            ],
            "text/plain": [
              "       LIMIT_BAL  SEX  EDUCATION  MARRIAGE  AGE  PAY_0  PAY_2  PAY_3  PAY_4  \\\n",
              "ID                                                                            \n",
              "21754    80000.0    2          2         2   24      0      0      0      0   \n",
              "252      30000.0    1          2         2   28      0      0      0      0   \n",
              "22942   180000.0    2          5         1   44      0      0     -1     -1   \n",
              "619      60000.0    1          1         2   25      0      0      0      0   \n",
              "17091   130000.0    2          2         2   25      0      0      0      0   \n",
              "\n",
              "       PAY_5  ...  BILL_AMT3  BILL_AMT4  BILL_AMT5  BILL_AMT6  PAY_AMT1  \\\n",
              "ID            ...                                                         \n",
              "21754      0  ...    78321.0    73731.0    39643.0    39457.0    3503.0   \n",
              "252        0  ...    29155.0    25255.0    22001.0        0.0    5006.0   \n",
              "22942     -1  ...      850.0        0.0     6881.0    10340.0       0.0   \n",
              "619        0  ...    38533.0    39639.0    39619.0    39140.0    2018.0   \n",
              "17091      0  ...   114734.0   117823.0   120854.0   123904.0    4100.0   \n",
              "\n",
              "       PAY_AMT2  PAY_AMT3  PAY_AMT4  PAY_AMT5  PAY_AMT6  \n",
              "ID                                                       \n",
              "21754    5001.0    2092.0    1218.0    1445.0     878.0  \n",
              "252      1244.0     851.0     955.0       0.0       0.0  \n",
              "22942     850.0       0.0    6881.0   10340.0     182.0  \n",
              "619      1900.0    2000.0    1500.0    1900.0    2000.0  \n",
              "17091    4200.0    5000.0    5000.0    5000.0   10700.0  \n",
              "\n",
              "[5 rows x 23 columns]"
            ]
          },
          "metadata": {},
          "execution_count": 25
        }
      ],
      "metadata": {
        "id": "qhlRDiLqi5aT"
      }
    },
    {
      "cell_type": "code",
      "execution_count": 26,
      "source": [
        "numeric_cols = X[['LIMIT_BAL','AGE',\t'BILL_AMT1','BILL_AMT2','BILL_AMT3','BILL_AMT4','BILL_AMT5','BILL_AMT6','PAY_AMT1','PAY_AMT2','PAY_AMT3','PAY_AMT4','PAY_AMT5','PAY_AMT6','SEX','EDUCATION','MARRIAGE','PAY_0','PAY_2','PAY_3','PAY_4','PAY_5','PAY_6']].columns\r\n",
        "\r\n",
        "print(numeric_cols)"
      ],
      "outputs": [
        {
          "output_type": "stream",
          "name": "stdout",
          "text": [
            "Index(['LIMIT_BAL', 'AGE', 'BILL_AMT1', 'BILL_AMT2', 'BILL_AMT3', 'BILL_AMT4',\n",
            "       'BILL_AMT5', 'BILL_AMT6', 'PAY_AMT1', 'PAY_AMT2', 'PAY_AMT3',\n",
            "       'PAY_AMT4', 'PAY_AMT5', 'PAY_AMT6', 'SEX', 'EDUCATION', 'MARRIAGE',\n",
            "       'PAY_0', 'PAY_2', 'PAY_3', 'PAY_4', 'PAY_5', 'PAY_6'],\n",
            "      dtype='object')\n"
          ]
        }
      ],
      "metadata": {
        "id": "uECBcVKuuwwp"
      }
    },
    {
      "cell_type": "code",
      "execution_count": 28,
      "source": [
        "numeric_transformers = Pipeline(steps=[\r\n",
        "                               ('scaler',StandardScaler())\r\n",
        "])\r\n",
        "\r\n",
        "preprocessor = ColumnTransformer(\r\n",
        "    transformers = [\r\n",
        "                    ('num',numeric_transformers, numeric_cols)\r\n",
        "                 \r\n",
        "    ]\r\n",
        ")"
      ],
      "outputs": [],
      "metadata": {
        "id": "vcrL3ynLuy9j"
      }
    },
    {
      "cell_type": "markdown",
      "source": [
        "# Handling Class Imbalance using undersampling"
      ],
      "metadata": {
        "id": "Lqr6kgH1vBgu"
      }
    },
    {
      "cell_type": "code",
      "execution_count": 30,
      "source": [
        "# visualize the target variable\r\n",
        "g = sns.countplot(dataset['default.payment.next.month'])\r\n",
        "g.set_xticklabels(['Not Default','Default'])\r\n",
        "plt.show()"
      ],
      "outputs": [
        {
          "output_type": "stream",
          "name": "stderr",
          "text": [
            "D:\\Users\\Jake\\anaconda3\\lib\\site-packages\\seaborn\\_decorators.py:36: FutureWarning: Pass the following variable as a keyword arg: x. From version 0.12, the only valid positional argument will be `data`, and passing other arguments without an explicit keyword will result in an error or misinterpretation.\n",
            "  warnings.warn(\n"
          ]
        },
        {
          "output_type": "display_data",
          "data": {
            "image/png": "[encoded data removed]",
            "text/plain": [
              "<Figure size 432x288 with 1 Axes>"
            ]
          },
          "metadata": {
            "needs_background": "light"
          }
        }
      ],
      "metadata": {
        "id": "3pDmuBsdvA3K"
      }
    },
    {
      "cell_type": "code",
      "execution_count": 32,
      "source": [
        "# class count\r\n",
        "class_count_0, class_count_1 = dataset['default.payment.next.month'].value_counts()\r\n",
        "\r\n",
        "# Separate class\r\n",
        "class_0 = dataset[dataset['default.payment.next.month'] == 0]\r\n",
        "class_1 = dataset[dataset['default.payment.next.month'] == 1]\r\n",
        "\r\n",
        "# print the shape of the class\r\n",
        "print('class 0:', class_0.shape)\r\n",
        "print('class 1:', class_1.shape)"
      ],
      "outputs": [
        {
          "output_type": "stream",
          "name": "stdout",
          "text": [
            "class 0: (23364, 24)\n",
            "class 1: (6636, 24)\n"
          ]
        }
      ],
      "metadata": {
        "id": "MUFd_JyIvHRb"
      }
    },
    {
      "cell_type": "code",
      "execution_count": 35,
      "source": [
        "#Under sample the non-default class\r\n",
        "class_0_under = class_0.sample(class_count_1)\r\n",
        "\r\n",
        "#concatenate the equalized default and non-default data\r\n",
        "test_under = pd.concat([class_0_under, class_1], axis=0)\r\n",
        "\r\n",
        "print(\"total class of 1 and 0:\",test_under['default.payment.next.month'].value_counts())\r\n",
        "\r\n",
        "# plot the count after under-sampeling\r\n",
        "test_under['default.payment.next.month'].value_counts().plot(kind='bar', title='count (target)')\r\n",
        "plt.show()"
      ],
      "outputs": [
        {
          "output_type": "stream",
          "name": "stdout",
          "text": [
            "total class of 1 and 0: 0    6636\n",
            "1    6636\n",
            "Name: default.payment.next.month, dtype: int64\n"
          ]
        },
        {
          "output_type": "display_data",
          "data": {
            "image/png": "[encoded data removed]",
            "text/plain": [
              "<Figure size 432x288 with 1 Axes>"
            ]
          },
          "metadata": {
            "needs_background": "light"
          }
        }
      ],
      "metadata": {
        "id": "EkjjUCVJE2HC"
      }
    },
    {
      "cell_type": "code",
      "execution_count": 37,
      "source": [
        "X_undersample = test_under.drop('default.payment.next.month', axis=1)\r\n",
        "y_undersample = test_under['default.payment.next.month']\r\n"
      ],
      "outputs": [],
      "metadata": {
        "id": "KKjI6imlGSc3"
      }
    },
    {
      "cell_type": "code",
      "execution_count": 38,
      "source": [
        "from sklearn.model_selection import train_test_split\r\n",
        "X_train_undersample, x_test_undersample, Y_train_undersample, y_test_undersample = train_test_split(X_undersample, y_undersample, test_size = 0.20, random_state=42)\r\n",
        "X_train_undersample.head()"
      ],
      "outputs": [
        {
          "output_type": "execute_result",
          "data": {
            "text/html": [
              "<div>\n",
              "<style scoped>\n",
              "    .dataframe tbody tr th:only-of-type {\n",
              "        vertical-align: middle;\n",
              "    }\n",
              "\n",
              "    .dataframe tbody tr th {\n",
              "        vertical-align: top;\n",
              "    }\n",
              "\n",
              "    .dataframe thead th {\n",
              "        text-align: right;\n",
              "    }\n",
              "</style>\n",
              "<table border=\"1\" class=\"dataframe\">\n",
              "  <thead>\n",
              "    <tr style=\"text-align: right;\">\n",
              "      <th></th>\n",
              "      <th>LIMIT_BAL</th>\n",
              "      <th>SEX</th>\n",
              "      <th>EDUCATION</th>\n",
              "      <th>MARRIAGE</th>\n",
              "      <th>AGE</th>\n",
              "      <th>PAY_0</th>\n",
              "      <th>PAY_2</th>\n",
              "      <th>PAY_3</th>\n",
              "      <th>PAY_4</th>\n",
              "      <th>PAY_5</th>\n",
              "      <th>...</th>\n",
              "      <th>BILL_AMT3</th>\n",
              "      <th>BILL_AMT4</th>\n",
              "      <th>BILL_AMT5</th>\n",
              "      <th>BILL_AMT6</th>\n",
              "      <th>PAY_AMT1</th>\n",
              "      <th>PAY_AMT2</th>\n",
              "      <th>PAY_AMT3</th>\n",
              "      <th>PAY_AMT4</th>\n",
              "      <th>PAY_AMT5</th>\n",
              "      <th>PAY_AMT6</th>\n",
              "    </tr>\n",
              "    <tr>\n",
              "      <th>ID</th>\n",
              "      <th></th>\n",
              "      <th></th>\n",
              "      <th></th>\n",
              "      <th></th>\n",
              "      <th></th>\n",
              "      <th></th>\n",
              "      <th></th>\n",
              "      <th></th>\n",
              "      <th></th>\n",
              "      <th></th>\n",
              "      <th></th>\n",
              "      <th></th>\n",
              "      <th></th>\n",
              "      <th></th>\n",
              "      <th></th>\n",
              "      <th></th>\n",
              "      <th></th>\n",
              "      <th></th>\n",
              "      <th></th>\n",
              "      <th></th>\n",
              "      <th></th>\n",
              "    </tr>\n",
              "  </thead>\n",
              "  <tbody>\n",
              "    <tr>\n",
              "      <th>28626</th>\n",
              "      <td>310000.0</td>\n",
              "      <td>2</td>\n",
              "      <td>1</td>\n",
              "      <td>1</td>\n",
              "      <td>31</td>\n",
              "      <td>-2</td>\n",
              "      <td>-2</td>\n",
              "      <td>-2</td>\n",
              "      <td>-2</td>\n",
              "      <td>-2</td>\n",
              "      <td>...</td>\n",
              "      <td>24480.0</td>\n",
              "      <td>0.0</td>\n",
              "      <td>0.0</td>\n",
              "      <td>1635.0</td>\n",
              "      <td>0.0</td>\n",
              "      <td>24480.0</td>\n",
              "      <td>0.0</td>\n",
              "      <td>0.0</td>\n",
              "      <td>1635.0</td>\n",
              "      <td>3008.0</td>\n",
              "    </tr>\n",
              "    <tr>\n",
              "      <th>24525</th>\n",
              "      <td>140000.0</td>\n",
              "      <td>1</td>\n",
              "      <td>2</td>\n",
              "      <td>2</td>\n",
              "      <td>41</td>\n",
              "      <td>0</td>\n",
              "      <td>0</td>\n",
              "      <td>0</td>\n",
              "      <td>0</td>\n",
              "      <td>0</td>\n",
              "      <td>...</td>\n",
              "      <td>141805.0</td>\n",
              "      <td>26141.0</td>\n",
              "      <td>7373.0</td>\n",
              "      <td>81185.0</td>\n",
              "      <td>10000.0</td>\n",
              "      <td>10000.0</td>\n",
              "      <td>5000.0</td>\n",
              "      <td>6000.0</td>\n",
              "      <td>76000.0</td>\n",
              "      <td>3000.0</td>\n",
              "    </tr>\n",
              "    <tr>\n",
              "      <th>533</th>\n",
              "      <td>10000.0</td>\n",
              "      <td>1</td>\n",
              "      <td>2</td>\n",
              "      <td>2</td>\n",
              "      <td>46</td>\n",
              "      <td>0</td>\n",
              "      <td>0</td>\n",
              "      <td>2</td>\n",
              "      <td>2</td>\n",
              "      <td>2</td>\n",
              "      <td>...</td>\n",
              "      <td>6143.0</td>\n",
              "      <td>6908.0</td>\n",
              "      <td>6652.0</td>\n",
              "      <td>6785.0</td>\n",
              "      <td>2400.0</td>\n",
              "      <td>0.0</td>\n",
              "      <td>871.0</td>\n",
              "      <td>0.0</td>\n",
              "      <td>244.0</td>\n",
              "      <td>251.0</td>\n",
              "    </tr>\n",
              "    <tr>\n",
              "      <th>26058</th>\n",
              "      <td>50000.0</td>\n",
              "      <td>2</td>\n",
              "      <td>3</td>\n",
              "      <td>1</td>\n",
              "      <td>27</td>\n",
              "      <td>2</td>\n",
              "      <td>0</td>\n",
              "      <td>0</td>\n",
              "      <td>0</td>\n",
              "      <td>2</td>\n",
              "      <td>...</td>\n",
              "      <td>38498.0</td>\n",
              "      <td>40644.0</td>\n",
              "      <td>39731.0</td>\n",
              "      <td>35657.0</td>\n",
              "      <td>27234.0</td>\n",
              "      <td>1754.0</td>\n",
              "      <td>2900.0</td>\n",
              "      <td>0.0</td>\n",
              "      <td>1265.0</td>\n",
              "      <td>832.0</td>\n",
              "    </tr>\n",
              "    <tr>\n",
              "      <th>12300</th>\n",
              "      <td>390000.0</td>\n",
              "      <td>1</td>\n",
              "      <td>1</td>\n",
              "      <td>2</td>\n",
              "      <td>34</td>\n",
              "      <td>-2</td>\n",
              "      <td>-2</td>\n",
              "      <td>-2</td>\n",
              "      <td>-2</td>\n",
              "      <td>-1</td>\n",
              "      <td>...</td>\n",
              "      <td>1906.0</td>\n",
              "      <td>0.0</td>\n",
              "      <td>2258.0</td>\n",
              "      <td>7028.0</td>\n",
              "      <td>0.0</td>\n",
              "      <td>1915.0</td>\n",
              "      <td>0.0</td>\n",
              "      <td>2258.0</td>\n",
              "      <td>5001.0</td>\n",
              "      <td>5000.0</td>\n",
              "    </tr>\n",
              "  </tbody>\n",
              "</table>\n",
              "<p>5 rows × 23 columns</p>\n",
              "</div>"
            ],
            "text/plain": [
              "       LIMIT_BAL  SEX  EDUCATION  MARRIAGE  AGE  PAY_0  PAY_2  PAY_3  PAY_4  \\\n",
              "ID                                                                            \n",
              "28626   310000.0    2          1         1   31     -2     -2     -2     -2   \n",
              "24525   140000.0    1          2         2   41      0      0      0      0   \n",
              "533      10000.0    1          2         2   46      0      0      2      2   \n",
              "26058    50000.0    2          3         1   27      2      0      0      0   \n",
              "12300   390000.0    1          1         2   34     -2     -2     -2     -2   \n",
              "\n",
              "       PAY_5  ...  BILL_AMT3  BILL_AMT4  BILL_AMT5  BILL_AMT6  PAY_AMT1  \\\n",
              "ID            ...                                                         \n",
              "28626     -2  ...    24480.0        0.0        0.0     1635.0       0.0   \n",
              "24525      0  ...   141805.0    26141.0     7373.0    81185.0   10000.0   \n",
              "533        2  ...     6143.0     6908.0     6652.0     6785.0    2400.0   \n",
              "26058      2  ...    38498.0    40644.0    39731.0    35657.0   27234.0   \n",
              "12300     -1  ...     1906.0        0.0     2258.0     7028.0       0.0   \n",
              "\n",
              "       PAY_AMT2  PAY_AMT3  PAY_AMT4  PAY_AMT5  PAY_AMT6  \n",
              "ID                                                       \n",
              "28626   24480.0       0.0       0.0    1635.0    3008.0  \n",
              "24525   10000.0    5000.0    6000.0   76000.0    3000.0  \n",
              "533         0.0     871.0       0.0     244.0     251.0  \n",
              "26058    1754.0    2900.0       0.0    1265.0     832.0  \n",
              "12300    1915.0       0.0    2258.0    5001.0    5000.0  \n",
              "\n",
              "[5 rows x 23 columns]"
            ]
          },
          "metadata": {},
          "execution_count": 38
        }
      ],
      "metadata": {
        "id": "sex6B5VLG4h2"
      }
    },
    {
      "cell_type": "code",
      "execution_count": 39,
      "source": [
        "classifiers = [\r\n",
        "               GaussianNB(),\r\n",
        "               KNeighborsClassifier(),\r\n",
        "               LinearSVC(),\r\n",
        "               LogisticRegression(random_state=1),\r\n",
        "               RandomForestClassifier(),\r\n",
        "               DecisionTreeClassifier(),\r\n",
        "               XGBClassifier(),\r\n",
        "               BernoulliNB(),                              \r\n",
        "               ]"
      ],
      "outputs": [],
      "metadata": {
        "id": "GdDPPIkwH3Rl"
      }
    },
    {
      "cell_type": "code",
      "execution_count": 40,
      "source": [
        "from sklearn.metrics import accuracy_score, f1_score, precision_score, recall_score, roc_auc_score\r\n",
        "import pandas as pd\r\n",
        "params = []\r\n",
        "scores = []\r\n",
        "for clf in classifiers:\r\n",
        "  pipeline = Pipeline(\r\n",
        "      steps =[\r\n",
        "              ('preprocessor',preprocessor),\r\n",
        "              ('classifier',clf)\r\n",
        "      ]\r\n",
        "  )\r\n",
        "  #Fit the model\r\n",
        "  pipeline.fit(X_train_undersample, Y_train_undersample)\r\n",
        "\r\n",
        "\r\n",
        "  #getting the score of the classifiers\r\n",
        "  score = pipeline.score(x_test_undersample,y_test_undersample)\r\n",
        "  print(\"%s score : %.3f\" %(clf.__class__.__name__, score))\r\n",
        "\r\n",
        "\r\n",
        "  y_pred_undersample = pipeline.predict(x_test_undersample)\r\n",
        "  roc = roc_auc_score(y_test_undersample, y_pred_undersample)\r\n",
        "  acc = accuracy_score(y_test_undersample, y_pred_undersample)\r\n",
        "  prec = precision_score(y_test_undersample, y_pred_undersample)\r\n",
        "  rec = recall_score(y_test_undersample,y_pred_undersample)\r\n",
        "  f1 = f1_score(y_test_undersample, y_pred_undersample)\r\n",
        "  \r\n",
        "  \r\n",
        "  cols = ['Model', 'Accuracy', 'Precision', 'Recall', 'F1 Score', 'ROC']\r\n",
        "  score = [clf.__class__.__name__, acc, prec, rec, f1, roc]\r\n",
        "\r\n",
        "  scores.append(score)    \r\n",
        "            \r\n",
        "  scores_df = pd.DataFrame(scores, columns=cols)\r\n",
        "  list_params = [pipeline, score, x_test_undersample, y_test_undersample, clf.__class__.__name__]\r\n",
        "  params.append(list_params)\r\n",
        "\r\n"
      ],
      "outputs": [
        {
          "output_type": "stream",
          "name": "stdout",
          "text": [
            "GaussianNB score : 0.636\n",
            "KNeighborsClassifier score : 0.660\n"
          ]
        },
        {
          "output_type": "stream",
          "name": "stderr",
          "text": [
            "D:\\Users\\Jake\\anaconda3\\lib\\site-packages\\sklearn\\svm\\_base.py:985: ConvergenceWarning: Liblinear failed to converge, increase the number of iterations.\n",
            "  warnings.warn(\"Liblinear failed to converge, increase \"\n"
          ]
        },
        {
          "output_type": "stream",
          "name": "stdout",
          "text": [
            "LinearSVC score : 0.663\n",
            "LogisticRegression score : 0.661\n",
            "RandomForestClassifier score : 0.692\n",
            "DecisionTreeClassifier score : 0.602\n",
            "[13:41:14] WARNING: ..\\src\\learner.cc:1061: Starting in XGBoost 1.3.0, the default evaluation metric used with the objective 'binary:logistic' was changed from 'error' to 'logloss'. Explicitly set eval_metric if you'd like to restore the old behavior.\n"
          ]
        },
        {
          "output_type": "stream",
          "name": "stderr",
          "text": [
            "D:\\Users\\Jake\\anaconda3\\lib\\site-packages\\xgboost\\sklearn.py:888: UserWarning: The use of label encoder in XGBClassifier is deprecated and will be removed in a future release. To remove this warning, do the following: 1) Pass option use_label_encoder=False when constructing XGBClassifier object; and 2) Encode your labels (y) as integers starting with 0, i.e. 0, 1, 2, ..., [num_class - 1].\n",
            "  warnings.warn(label_encoder_deprecation_msg, UserWarning)\n"
          ]
        },
        {
          "output_type": "stream",
          "name": "stdout",
          "text": [
            "XGBClassifier score : 0.679\n",
            "BernoulliNB score : 0.659\n"
          ]
        }
      ],
      "metadata": {
        "id": "CTtVBIJ_HNV_"
      }
    },
    {
      "cell_type": "code",
      "execution_count": 41,
      "source": [
        "#Scores\r\n",
        "print(scores_df)"
      ],
      "outputs": [
        {
          "output_type": "stream",
          "name": "stdout",
          "text": [
            "                    Model  Accuracy  Precision    Recall  F1 Score       ROC\n",
            "0              GaussianNB  0.635782   0.610169  0.757325  0.675830  0.635460\n",
            "1    KNeighborsClassifier  0.659887   0.678930  0.610068  0.642659  0.660019\n",
            "2               LinearSVC  0.663277   0.681027  0.617581  0.647754  0.663398\n",
            "3      LogisticRegression  0.661394   0.677340  0.619835  0.647313  0.661503\n",
            "4  RandomForestClassifier  0.692279   0.733212  0.607062  0.664201  0.692504\n",
            "5  DecisionTreeClassifier  0.601507   0.604278  0.594290  0.599242  0.601526\n",
            "6           XGBClassifier  0.679096   0.700754  0.628099  0.662441  0.679231\n",
            "7             BernoulliNB  0.658757   0.674610  0.616829  0.644427  0.658868\n"
          ]
        }
      ],
      "metadata": {
        "id": "lWCpDUjcva17"
      }
    },
    {
      "cell_type": "code",
      "execution_count": 42,
      "source": [
        "#Choose the best model and create a pipeline\r\n",
        "rf_clf = RandomForestClassifier()\r\n",
        "final_pipeline = Pipeline(\r\n",
        "    steps = [\r\n",
        "             ('preprocessor', preprocessor),\r\n",
        "             ('classifier', rf_clf)\r\n",
        "    ]\r\n",
        ")\r\n",
        "final_pipeline"
      ],
      "outputs": [
        {
          "output_type": "execute_result",
          "data": {
            "text/plain": [
              "Pipeline(steps=[('preprocessor',\n",
              "                 ColumnTransformer(transformers=[('num',\n",
              "                                                  Pipeline(steps=[('scaler',\n",
              "                                                                   StandardScaler())]),\n",
              "                                                  Index(['LIMIT_BAL', 'AGE', 'BILL_AMT1', 'BILL_AMT2', 'BILL_AMT3', 'BILL_AMT4',\n",
              "       'BILL_AMT5', 'BILL_AMT6', 'PAY_AMT1', 'PAY_AMT2', 'PAY_AMT3',\n",
              "       'PAY_AMT4', 'PAY_AMT5', 'PAY_AMT6', 'SEX', 'EDUCATION', 'MARRIAGE',\n",
              "       'PAY_0', 'PAY_2', 'PAY_3', 'PAY_4', 'PAY_5', 'PAY_6'],\n",
              "      dtype='object'))])),\n",
              "                ('classifier', RandomForestClassifier())])"
            ]
          },
          "metadata": {},
          "execution_count": 42
        }
      ],
      "metadata": {
        "id": "g1UTke6OHan7"
      }
    },
    {
      "cell_type": "code",
      "execution_count": 44,
      "source": [
        "rf_model = final_pipeline.fit(X_train_undersample, Y_train_undersample)\r\n",
        "y_pred_undersample = rf_model.predict(x_test_undersample)\r\n",
        "\r\n",
        "cm = confusion_matrix(y_test_undersample, y_pred_undersample)\r\n",
        "sns.heatmap(cm, annot=True, cmap=\"Blues\" ,fmt =\".0f\")\r\n",
        "\r\n",
        "roc = plot_roc_curve(rf_model, x_test, y_test)"
      ],
      "outputs": [
        {
          "output_type": "display_data",
          "data": {
            "image/png": "[encoded data removed]",
            "text/plain": [
              "<Figure size 432x288 with 2 Axes>"
            ]
          },
          "metadata": {
            "needs_background": "light"
          }
        },
        {
          "output_type": "display_data",
          "data": {
            "image/png": "[encoded data removed]",
            "text/plain": [
              "<Figure size 432x288 with 1 Axes>"
            ]
          },
          "metadata": {
            "needs_background": "light"
          }
        }
      ],
      "metadata": {
        "id": "-CjmxNzBvgG-"
      }
    },
    {
      "cell_type": "code",
      "execution_count": 45,
      "source": [
        "report = classification_report(y_test_undersample, y_pred_undersample)\r\n",
        "print(\"Report : \\n{}\".format(report))"
      ],
      "outputs": [
        {
          "output_type": "stream",
          "name": "stdout",
          "text": [
            "Report : \n",
            "              precision    recall  f1-score   support\n",
            "\n",
            "           0       0.66      0.76      0.71      1324\n",
            "           1       0.72      0.60      0.66      1331\n",
            "\n",
            "    accuracy                           0.68      2655\n",
            "   macro avg       0.69      0.68      0.68      2655\n",
            "weighted avg       0.69      0.68      0.68      2655\n",
            "\n"
          ]
        }
      ],
      "metadata": {
        "id": "cFJBHngyvrAN"
      }
    },
    {
      "cell_type": "code",
      "execution_count": 46,
      "source": [
        "\r\n",
        "y_pred = rf_model.predict(x_test)\r\n",
        "\r\n",
        "cm = confusion_matrix(y_test, y_pred)\r\n",
        "sns.heatmap(cm, annot=True, cmap=\"Blues\" ,fmt =\".0f\");\r\n",
        "\r\n",
        "roc = plot_roc_curve(rf_model, x_test, y_test)"
      ],
      "outputs": [
        {
          "output_type": "display_data",
          "data": {
            "image/png": "[encoded data removed]",
            "text/plain": [
              "<Figure size 432x288 with 2 Axes>"
            ]
          },
          "metadata": {
            "needs_background": "light"
          }
        },
        {
          "output_type": "display_data",
          "data": {
            "image/png": "[encoded data removed]",
            "text/plain": [
              "<Figure size 432x288 with 1 Axes>"
            ]
          },
          "metadata": {
            "needs_background": "light"
          }
        }
      ],
      "metadata": {
        "id": "HA3by6wufF9T"
      }
    },
    {
      "cell_type": "code",
      "execution_count": 47,
      "source": [
        "report = classification_report(y_test, y_pred)\r\n",
        "print(\"Report : \\n{}\".format(report))"
      ],
      "outputs": [
        {
          "output_type": "stream",
          "name": "stdout",
          "text": [
            "Report : \n",
            "              precision    recall  f1-score   support\n",
            "\n",
            "           0       0.97      0.83      0.90      4687\n",
            "           1       0.60      0.91      0.73      1313\n",
            "\n",
            "    accuracy                           0.85      6000\n",
            "   macro avg       0.79      0.87      0.81      6000\n",
            "weighted avg       0.89      0.85      0.86      6000\n",
            "\n"
          ]
        }
      ],
      "metadata": {
        "id": "0yGMRix9fcwH"
      }
    },
    {
      "cell_type": "markdown",
      "source": [
        "# Feature Ranking"
      ],
      "metadata": {
        "id": "VhP83BKHv1hW"
      }
    },
    {
      "cell_type": "code",
      "execution_count": 48,
      "source": [
        "def plot_most_important_features(feat_imp, method='MDI', \r\n",
        "                                 n_features=10, bottom=False):\r\n",
        "        \r\n",
        "    if bottom:\r\n",
        "        indicator = 'Bottom'\r\n",
        "        feat_imp = feat_imp.sort_values(ascending=True)\r\n",
        "    else:\r\n",
        "        indicator = 'Top'\r\n",
        "        feat_imp = feat_imp.sort_values(ascending=False)\r\n",
        "        \r\n",
        "    ax = feat_imp.head(n_features).plot.barh()\r\n",
        "    ax.invert_yaxis()\r\n",
        "    ax.set(title=('Feature importance - '\r\n",
        "                  f'{method} ({indicator} {n_features})'), \r\n",
        "           xlabel='Importance', \r\n",
        "           ylabel='Feature')\r\n",
        "    \r\n",
        "    return ax"
      ],
      "outputs": [],
      "metadata": {
        "id": "k-E8sTx3xI-6"
      }
    },
    {
      "cell_type": "code",
      "execution_count": 50,
      "source": [
        "feat_names = np.r_[numeric_cols]\r\n",
        "rf_classifier = rf_model.named_steps['classifier']\r\n",
        "rf_feat_imp = pd.DataFrame(rf_classifier.feature_importances_,\r\n",
        "                           index=feat_names,\r\n",
        "                           columns=['mdi'])\r\n",
        "rf_feat_imp = rf_feat_imp.sort_values('mdi', ascending=False)\r\n",
        "rf_feat_imp['cumul_importance_mdi'] = np.cumsum(rf_feat_imp.mdi)\r\n",
        "\r\n",
        "plot_most_important_features(rf_feat_imp.mdi, \r\n",
        "                             method='MDI')\r\n",
        "\r\n",
        "plt.tight_layout()\r\n",
        "plt.show()"
      ],
      "outputs": [
        {
          "output_type": "display_data",
          "data": {
            "image/png": "[encoded data removed]",
            "text/plain": [
              "<Figure size 432x288 with 1 Axes>"
            ]
          },
          "metadata": {
            "needs_background": "light"
          }
        }
      ],
      "metadata": {
        "id": "d0kbesr4vumn"
      }
    }
  ]
}